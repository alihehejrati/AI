{
  "nbformat": 4,
  "nbformat_minor": 0,
  "metadata": {
    "colab": {
      "name": "linearRegression.ipynb",
      "provenance": [],
      "collapsed_sections": [],
      "authorship_tag": "ABX9TyPDThu+6uvGrrpHiiJbbP8L",
      "include_colab_link": true
    },
    "kernelspec": {
      "name": "python3",
      "display_name": "Python 3"
    },
    "language_info": {
      "name": "python"
    }
  },
  "cells": [
    {
      "cell_type": "markdown",
      "metadata": {
        "id": "view-in-github",
        "colab_type": "text"
      },
      "source": [
        "<a href=\"https://colab.research.google.com/github/alihehejrati/AI/blob/main/(T)%20linearRegression.ipynb\" target=\"_parent\"><img src=\"https://colab.research.google.com/assets/colab-badge.svg\" alt=\"Open In Colab\"/></a>"
      ]
    },
    {
      "cell_type": "code",
      "metadata": {
        "id": "aX5GpVav5JIc"
      },
      "source": [
        "import torch\n",
        "import torch.nn as nn\n",
        "import numpy as np\n",
        "import matplotlib.pyplot as plt\n",
        "np.random.seed(1)"
      ],
      "execution_count": 41,
      "outputs": []
    },
    {
      "cell_type": "code",
      "metadata": {
        "id": "-HDxrInl5fbP"
      },
      "source": [
        "N = 20\n",
        "X = np.random.random(N)*10 - 5 # N random scaler in [-5 5]\n",
        "Y = .5 * X - 1 + np.random.randn(N)"
      ],
      "execution_count": 42,
      "outputs": []
    },
    {
      "cell_type": "code",
      "metadata": {
        "colab": {
          "base_uri": "https://localhost:8080/",
          "height": 265
        },
        "id": "GFufy__y73lc",
        "outputId": "5cd9cf79-db51-4e24-acb5-c23bb0eaa2e2"
      },
      "source": [
        "plt.scatter(X, Y);"
      ],
      "execution_count": 43,
      "outputs": [
        {
          "output_type": "display_data",
          "data": {
            "image/png": "[encoded data removed]",
            "text/plain": [
              "<Figure size 432x288 with 1 Axes>"
            ]
          },
          "metadata": {
            "tags": [],
            "needs_background": "light"
          }
        }
      ]
    },
    {
      "cell_type": "code",
      "metadata": {
        "colab": {
          "base_uri": "https://localhost:8080/"
        },
        "id": "6S5EjBCp8JHl",
        "outputId": "4b68f43b-db9e-4a1c-d663-6bcecfc86481"
      },
      "source": [
        "model = nn.Linear(1, 1)\n",
        "model"
      ],
      "execution_count": 44,
      "outputs": [
        {
          "output_type": "execute_result",
          "data": {
            "text/plain": [
              "Linear(in_features=1, out_features=1, bias=True)"
            ]
          },
          "metadata": {
            "tags": []
          },
          "execution_count": 44
        }
      ]
    },
    {
      "cell_type": "code",
      "metadata": {
        "id": "1uUdA5B88V4m"
      },
      "source": [
        "criterion = nn.MSELoss()\n",
        "optimizer = torch.optim.SGD(model.parameters(), lr=.001)"
      ],
      "execution_count": 45,
      "outputs": []
    },
    {
      "cell_type": "code",
      "metadata": {
        "colab": {
          "base_uri": "https://localhost:8080/"
        },
        "id": "JvcQXT8M8qfY",
        "outputId": "fe6dac5d-7045-4724-e664-d1eb00065e66"
      },
      "source": [
        "criterion"
      ],
      "execution_count": 46,
      "outputs": [
        {
          "output_type": "execute_result",
          "data": {
            "text/plain": [
              "MSELoss()"
            ]
          },
          "metadata": {
            "tags": []
          },
          "execution_count": 46
        }
      ]
    },
    {
      "cell_type": "code",
      "metadata": {
        "colab": {
          "base_uri": "https://localhost:8080/"
        },
        "id": "M-KwpkOy8sLd",
        "outputId": "2937f6e3-f194-4fae-ee91-c6f010937f17"
      },
      "source": [
        "optimizer"
      ],
      "execution_count": 47,
      "outputs": [
        {
          "output_type": "execute_result",
          "data": {
            "text/plain": [
              "SGD (\n",
              "Parameter Group 0\n",
              "    dampening: 0\n",
              "    lr: 0.001\n",
              "    momentum: 0\n",
              "    nesterov: False\n",
              "    weight_decay: 0\n",
              ")"
            ]
          },
          "metadata": {
            "tags": []
          },
          "execution_count": 47
        }
      ]
    },
    {
      "cell_type": "code",
      "metadata": {
        "id": "wdPSbjGp8yLd"
      },
      "source": [
        "X = X.reshape(N, 1);\n",
        "Y = Y.reshape(N, 1);\n",
        "\n",
        "inputs  = torch.from_numpy(X.astype(np.float32))\n",
        "targets = torch.from_numpy(Y.astype(np.float32))"
      ],
      "execution_count": 48,
      "outputs": []
    },
    {
      "cell_type": "code",
      "metadata": {
        "colab": {
          "base_uri": "https://localhost:8080/"
        },
        "id": "u8ZVfTGI972h",
        "outputId": "14724e4e-654d-41ee-af46-ca64ebb3a6f9"
      },
      "source": [
        "type(inputs)"
      ],
      "execution_count": 49,
      "outputs": [
        {
          "output_type": "execute_result",
          "data": {
            "text/plain": [
              "torch.Tensor"
            ]
          },
          "metadata": {
            "tags": []
          },
          "execution_count": 49
        }
      ]
    },
    {
      "cell_type": "code",
      "metadata": {
        "colab": {
          "base_uri": "https://localhost:8080/"
        },
        "id": "opFrB7tx-rQk",
        "outputId": "11ee603b-4753-435b-c3e1-a5ec6338142c"
      },
      "source": [
        "n_epochs = 300\n",
        "losses = []\n",
        "for it in range(n_epochs):\n",
        "  optimizer.zero_grad()\n",
        "\n",
        "  # forward\n",
        "  outputs = model(inputs)\n",
        "  loss = criterion(outputs, targets)\n",
        "  losses.append(loss.item())\n",
        "\n",
        "  # backward\n",
        "  loss.backward()\n",
        "  optimizer.step()\n",
        "\n",
        "  print(f'Epoch {it + 1}/{n_epochs}, Loss: {loss.item():.4f}')"
      ],
      "execution_count": 50,
      "outputs": [
        {
          "output_type": "stream",
          "text": [
            "Epoch 1/300, Loss: 15.4728\n",
            "Epoch 2/300, Loss: 15.0243\n",
            "Epoch 3/300, Loss: 14.5897\n",
            "Epoch 4/300, Loss: 14.1687\n",
            "Epoch 5/300, Loss: 13.7607\n",
            "Epoch 6/300, Loss: 13.3655\n",
            "Epoch 7/300, Loss: 12.9826\n",
            "Epoch 8/300, Loss: 12.6115\n",
            "Epoch 9/300, Loss: 12.2521\n",
            "Epoch 10/300, Loss: 11.9038\n",
            "Epoch 11/300, Loss: 11.5664\n",
            "Epoch 12/300, Loss: 11.2394\n",
            "Epoch 13/300, Loss: 10.9226\n",
            "Epoch 14/300, Loss: 10.6157\n",
            "Epoch 15/300, Loss: 10.3183\n",
            "Epoch 16/300, Loss: 10.0302\n",
            "Epoch 17/300, Loss: 9.7510\n",
            "Epoch 18/300, Loss: 9.4805\n",
            "Epoch 19/300, Loss: 9.2184\n",
            "Epoch 20/300, Loss: 8.9645\n",
            "Epoch 21/300, Loss: 8.7184\n",
            "Epoch 22/300, Loss: 8.4800\n",
            "Epoch 23/300, Loss: 8.2490\n",
            "Epoch 24/300, Loss: 8.0251\n",
            "Epoch 25/300, Loss: 7.8082\n",
            "Epoch 26/300, Loss: 7.5980\n",
            "Epoch 27/300, Loss: 7.3944\n",
            "Epoch 28/300, Loss: 7.1971\n",
            "Epoch 29/300, Loss: 7.0059\n",
            "Epoch 30/300, Loss: 6.8206\n",
            "Epoch 31/300, Loss: 6.6411\n",
            "Epoch 32/300, Loss: 6.4671\n",
            "Epoch 33/300, Loss: 6.2985\n",
            "Epoch 34/300, Loss: 6.1352\n",
            "Epoch 35/300, Loss: 5.9769\n",
            "Epoch 36/300, Loss: 5.8235\n",
            "Epoch 37/300, Loss: 5.6748\n",
            "Epoch 38/300, Loss: 5.5308\n",
            "Epoch 39/300, Loss: 5.3912\n",
            "Epoch 40/300, Loss: 5.2559\n",
            "Epoch 41/300, Loss: 5.1248\n",
            "Epoch 42/300, Loss: 4.9978\n",
            "Epoch 43/300, Loss: 4.8746\n",
            "Epoch 44/300, Loss: 4.7553\n",
            "Epoch 45/300, Loss: 4.6397\n",
            "Epoch 46/300, Loss: 4.5276\n",
            "Epoch 47/300, Loss: 4.4190\n",
            "Epoch 48/300, Loss: 4.3138\n",
            "Epoch 49/300, Loss: 4.2118\n",
            "Epoch 50/300, Loss: 4.1129\n",
            "Epoch 51/300, Loss: 4.0171\n",
            "Epoch 52/300, Loss: 3.9242\n",
            "Epoch 53/300, Loss: 3.8342\n",
            "Epoch 54/300, Loss: 3.7469\n",
            "Epoch 55/300, Loss: 3.6624\n",
            "Epoch 56/300, Loss: 3.5804\n",
            "Epoch 57/300, Loss: 3.5010\n",
            "Epoch 58/300, Loss: 3.4240\n",
            "Epoch 59/300, Loss: 3.3493\n",
            "Epoch 60/300, Loss: 3.2770\n",
            "Epoch 61/300, Loss: 3.2068\n",
            "Epoch 62/300, Loss: 3.1388\n",
            "Epoch 63/300, Loss: 3.0729\n",
            "Epoch 64/300, Loss: 3.0090\n",
            "Epoch 65/300, Loss: 2.9471\n",
            "Epoch 66/300, Loss: 2.8871\n",
            "Epoch 67/300, Loss: 2.8289\n",
            "Epoch 68/300, Loss: 2.7724\n",
            "Epoch 69/300, Loss: 2.7177\n",
            "Epoch 70/300, Loss: 2.6647\n",
            "Epoch 71/300, Loss: 2.6133\n",
            "Epoch 72/300, Loss: 2.5634\n",
            "Epoch 73/300, Loss: 2.5150\n",
            "Epoch 74/300, Loss: 2.4682\n",
            "Epoch 75/300, Loss: 2.4227\n",
            "Epoch 76/300, Loss: 2.3786\n",
            "Epoch 77/300, Loss: 2.3359\n",
            "Epoch 78/300, Loss: 2.2945\n",
            "Epoch 79/300, Loss: 2.2543\n",
            "Epoch 80/300, Loss: 2.2153\n",
            "Epoch 81/300, Loss: 2.1775\n",
            "Epoch 82/300, Loss: 2.1408\n",
            "Epoch 83/300, Loss: 2.1053\n",
            "Epoch 84/300, Loss: 2.0708\n",
            "Epoch 85/300, Loss: 2.0374\n",
            "Epoch 86/300, Loss: 2.0049\n",
            "Epoch 87/300, Loss: 1.9735\n",
            "Epoch 88/300, Loss: 1.9429\n",
            "Epoch 89/300, Loss: 1.9133\n",
            "Epoch 90/300, Loss: 1.8846\n",
            "Epoch 91/300, Loss: 1.8567\n",
            "Epoch 92/300, Loss: 1.8297\n",
            "Epoch 93/300, Loss: 1.8035\n",
            "Epoch 94/300, Loss: 1.7780\n",
            "Epoch 95/300, Loss: 1.7533\n",
            "Epoch 96/300, Loss: 1.7294\n",
            "Epoch 97/300, Loss: 1.7061\n",
            "Epoch 98/300, Loss: 1.6835\n",
            "Epoch 99/300, Loss: 1.6616\n",
            "Epoch 100/300, Loss: 1.6404\n",
            "Epoch 101/300, Loss: 1.6198\n",
            "Epoch 102/300, Loss: 1.5997\n",
            "Epoch 103/300, Loss: 1.5803\n",
            "Epoch 104/300, Loss: 1.5614\n",
            "Epoch 105/300, Loss: 1.5431\n",
            "Epoch 106/300, Loss: 1.5254\n",
            "Epoch 107/300, Loss: 1.5081\n",
            "Epoch 108/300, Loss: 1.4913\n",
            "Epoch 109/300, Loss: 1.4751\n",
            "Epoch 110/300, Loss: 1.4593\n",
            "Epoch 111/300, Loss: 1.4439\n",
            "Epoch 112/300, Loss: 1.4290\n",
            "Epoch 113/300, Loss: 1.4145\n",
            "Epoch 114/300, Loss: 1.4005\n",
            "Epoch 115/300, Loss: 1.3868\n",
            "Epoch 116/300, Loss: 1.3735\n",
            "Epoch 117/300, Loss: 1.3606\n",
            "Epoch 118/300, Loss: 1.3481\n",
            "Epoch 119/300, Loss: 1.3360\n",
            "Epoch 120/300, Loss: 1.3241\n",
            "Epoch 121/300, Loss: 1.3126\n",
            "Epoch 122/300, Loss: 1.3015\n",
            "Epoch 123/300, Loss: 1.2906\n",
            "Epoch 124/300, Loss: 1.2800\n",
            "Epoch 125/300, Loss: 1.2698\n",
            "Epoch 126/300, Loss: 1.2598\n",
            "Epoch 127/300, Loss: 1.2501\n",
            "Epoch 128/300, Loss: 1.2407\n",
            "Epoch 129/300, Loss: 1.2315\n",
            "Epoch 130/300, Loss: 1.2226\n",
            "Epoch 131/300, Loss: 1.2139\n",
            "Epoch 132/300, Loss: 1.2055\n",
            "Epoch 133/300, Loss: 1.1972\n",
            "Epoch 134/300, Loss: 1.1892\n",
            "Epoch 135/300, Loss: 1.1815\n",
            "Epoch 136/300, Loss: 1.1739\n",
            "Epoch 137/300, Loss: 1.1665\n",
            "Epoch 138/300, Loss: 1.1593\n",
            "Epoch 139/300, Loss: 1.1524\n",
            "Epoch 140/300, Loss: 1.1456\n",
            "Epoch 141/300, Loss: 1.1389\n",
            "Epoch 142/300, Loss: 1.1325\n",
            "Epoch 143/300, Loss: 1.1262\n",
            "Epoch 144/300, Loss: 1.1201\n",
            "Epoch 145/300, Loss: 1.1141\n",
            "Epoch 146/300, Loss: 1.1083\n",
            "Epoch 147/300, Loss: 1.1027\n",
            "Epoch 148/300, Loss: 1.0971\n",
            "Epoch 149/300, Loss: 1.0918\n",
            "Epoch 150/300, Loss: 1.0865\n",
            "Epoch 151/300, Loss: 1.0814\n",
            "Epoch 152/300, Loss: 1.0764\n",
            "Epoch 153/300, Loss: 1.0715\n",
            "Epoch 154/300, Loss: 1.0668\n",
            "Epoch 155/300, Loss: 1.0622\n",
            "Epoch 156/300, Loss: 1.0576\n",
            "Epoch 157/300, Loss: 1.0532\n",
            "Epoch 158/300, Loss: 1.0489\n",
            "Epoch 159/300, Loss: 1.0447\n",
            "Epoch 160/300, Loss: 1.0406\n",
            "Epoch 161/300, Loss: 1.0366\n",
            "Epoch 162/300, Loss: 1.0327\n",
            "Epoch 163/300, Loss: 1.0288\n",
            "Epoch 164/300, Loss: 1.0251\n",
            "Epoch 165/300, Loss: 1.0215\n",
            "Epoch 166/300, Loss: 1.0179\n",
            "Epoch 167/300, Loss: 1.0144\n",
            "Epoch 168/300, Loss: 1.0110\n",
            "Epoch 169/300, Loss: 1.0076\n",
            "Epoch 170/300, Loss: 1.0044\n",
            "Epoch 171/300, Loss: 1.0012\n",
            "Epoch 172/300, Loss: 0.9980\n",
            "Epoch 173/300, Loss: 0.9950\n",
            "Epoch 174/300, Loss: 0.9920\n",
            "Epoch 175/300, Loss: 0.9890\n",
            "Epoch 176/300, Loss: 0.9862\n",
            "Epoch 177/300, Loss: 0.9834\n",
            "Epoch 178/300, Loss: 0.9806\n",
            "Epoch 179/300, Loss: 0.9779\n",
            "Epoch 180/300, Loss: 0.9752\n",
            "Epoch 181/300, Loss: 0.9726\n",
            "Epoch 182/300, Loss: 0.9701\n",
            "Epoch 183/300, Loss: 0.9676\n",
            "Epoch 184/300, Loss: 0.9651\n",
            "Epoch 185/300, Loss: 0.9627\n",
            "Epoch 186/300, Loss: 0.9604\n",
            "Epoch 187/300, Loss: 0.9581\n",
            "Epoch 188/300, Loss: 0.9558\n",
            "Epoch 189/300, Loss: 0.9536\n",
            "Epoch 190/300, Loss: 0.9514\n",
            "Epoch 191/300, Loss: 0.9492\n",
            "Epoch 192/300, Loss: 0.9471\n",
            "Epoch 193/300, Loss: 0.9450\n",
            "Epoch 194/300, Loss: 0.9430\n",
            "Epoch 195/300, Loss: 0.9410\n",
            "Epoch 196/300, Loss: 0.9390\n",
            "Epoch 197/300, Loss: 0.9371\n",
            "Epoch 198/300, Loss: 0.9352\n",
            "Epoch 199/300, Loss: 0.9333\n",
            "Epoch 200/300, Loss: 0.9314\n",
            "Epoch 201/300, Loss: 0.9296\n",
            "Epoch 202/300, Loss: 0.9278\n",
            "Epoch 203/300, Loss: 0.9260\n",
            "Epoch 204/300, Loss: 0.9243\n",
            "Epoch 205/300, Loss: 0.9226\n",
            "Epoch 206/300, Loss: 0.9209\n",
            "Epoch 207/300, Loss: 0.9192\n",
            "Epoch 208/300, Loss: 0.9176\n",
            "Epoch 209/300, Loss: 0.9160\n",
            "Epoch 210/300, Loss: 0.9144\n",
            "Epoch 211/300, Loss: 0.9128\n",
            "Epoch 212/300, Loss: 0.9113\n",
            "Epoch 213/300, Loss: 0.9097\n",
            "Epoch 214/300, Loss: 0.9082\n",
            "Epoch 215/300, Loss: 0.9067\n",
            "Epoch 216/300, Loss: 0.9053\n",
            "Epoch 217/300, Loss: 0.9038\n",
            "Epoch 218/300, Loss: 0.9024\n",
            "Epoch 219/300, Loss: 0.9009\n",
            "Epoch 220/300, Loss: 0.8995\n",
            "Epoch 221/300, Loss: 0.8982\n",
            "Epoch 222/300, Loss: 0.8968\n",
            "Epoch 223/300, Loss: 0.8954\n",
            "Epoch 224/300, Loss: 0.8941\n",
            "Epoch 225/300, Loss: 0.8928\n",
            "Epoch 226/300, Loss: 0.8915\n",
            "Epoch 227/300, Loss: 0.8902\n",
            "Epoch 228/300, Loss: 0.8889\n",
            "Epoch 229/300, Loss: 0.8876\n",
            "Epoch 230/300, Loss: 0.8864\n",
            "Epoch 231/300, Loss: 0.8851\n",
            "Epoch 232/300, Loss: 0.8839\n",
            "Epoch 233/300, Loss: 0.8827\n",
            "Epoch 234/300, Loss: 0.8815\n",
            "Epoch 235/300, Loss: 0.8803\n",
            "Epoch 236/300, Loss: 0.8791\n",
            "Epoch 237/300, Loss: 0.8779\n",
            "Epoch 238/300, Loss: 0.8768\n",
            "Epoch 239/300, Loss: 0.8756\n",
            "Epoch 240/300, Loss: 0.8745\n",
            "Epoch 241/300, Loss: 0.8734\n",
            "Epoch 242/300, Loss: 0.8723\n",
            "Epoch 243/300, Loss: 0.8711\n",
            "Epoch 244/300, Loss: 0.8700\n",
            "Epoch 245/300, Loss: 0.8690\n",
            "Epoch 246/300, Loss: 0.8679\n",
            "Epoch 247/300, Loss: 0.8668\n",
            "Epoch 248/300, Loss: 0.8657\n",
            "Epoch 249/300, Loss: 0.8647\n",
            "Epoch 250/300, Loss: 0.8636\n",
            "Epoch 251/300, Loss: 0.8626\n",
            "Epoch 252/300, Loss: 0.8616\n",
            "Epoch 253/300, Loss: 0.8605\n",
            "Epoch 254/300, Loss: 0.8595\n",
            "Epoch 255/300, Loss: 0.8585\n",
            "Epoch 256/300, Loss: 0.8575\n",
            "Epoch 257/300, Loss: 0.8565\n",
            "Epoch 258/300, Loss: 0.8555\n",
            "Epoch 259/300, Loss: 0.8545\n",
            "Epoch 260/300, Loss: 0.8535\n",
            "Epoch 261/300, Loss: 0.8526\n",
            "Epoch 262/300, Loss: 0.8516\n",
            "Epoch 263/300, Loss: 0.8507\n",
            "Epoch 264/300, Loss: 0.8497\n",
            "Epoch 265/300, Loss: 0.8488\n",
            "Epoch 266/300, Loss: 0.8478\n",
            "Epoch 267/300, Loss: 0.8469\n",
            "Epoch 268/300, Loss: 0.8460\n",
            "Epoch 269/300, Loss: 0.8450\n",
            "Epoch 270/300, Loss: 0.8441\n",
            "Epoch 271/300, Loss: 0.8432\n",
            "Epoch 272/300, Loss: 0.8423\n",
            "Epoch 273/300, Loss: 0.8414\n",
            "Epoch 274/300, Loss: 0.8405\n",
            "Epoch 275/300, Loss: 0.8396\n",
            "Epoch 276/300, Loss: 0.8387\n",
            "Epoch 277/300, Loss: 0.8378\n",
            "Epoch 278/300, Loss: 0.8370\n",
            "Epoch 279/300, Loss: 0.8361\n",
            "Epoch 280/300, Loss: 0.8352\n",
            "Epoch 281/300, Loss: 0.8343\n",
            "Epoch 282/300, Loss: 0.8335\n",
            "Epoch 283/300, Loss: 0.8326\n",
            "Epoch 284/300, Loss: 0.8318\n",
            "Epoch 285/300, Loss: 0.8309\n",
            "Epoch 286/300, Loss: 0.8301\n",
            "Epoch 287/300, Loss: 0.8292\n",
            "Epoch 288/300, Loss: 0.8284\n",
            "Epoch 289/300, Loss: 0.8276\n",
            "Epoch 290/300, Loss: 0.8267\n",
            "Epoch 291/300, Loss: 0.8259\n",
            "Epoch 292/300, Loss: 0.8251\n",
            "Epoch 293/300, Loss: 0.8243\n",
            "Epoch 294/300, Loss: 0.8235\n",
            "Epoch 295/300, Loss: 0.8227\n",
            "Epoch 296/300, Loss: 0.8219\n",
            "Epoch 297/300, Loss: 0.8211\n",
            "Epoch 298/300, Loss: 0.8203\n",
            "Epoch 299/300, Loss: 0.8195\n",
            "Epoch 300/300, Loss: 0.8187\n"
          ],
          "name": "stdout"
        }
      ]
    },
    {
      "cell_type": "code",
      "metadata": {
        "id": "CafdsHAvEtBG",
        "colab": {
          "base_uri": "https://localhost:8080/",
          "height": 267
        },
        "outputId": "143859cc-f893-478a-eddf-5bfb6ee4ed4d"
      },
      "source": [
        "plt.plot(losses);"
      ],
      "execution_count": 51,
      "outputs": [
        {
          "output_type": "display_data",
          "data": {
            "image/png": "[encoded data removed]",
            "text/plain": [
              "<Figure size 432x288 with 1 Axes>"
            ]
          },
          "metadata": {
            "tags": [],
            "needs_background": "light"
          }
        }
      ]
    },
    {
      "cell_type": "code",
      "metadata": {
        "colab": {
          "base_uri": "https://localhost:8080/"
        },
        "id": "YIdcSkCeUG9f",
        "outputId": "0c99198a-dce0-4fd6-9909-9f96ed8fa211"
      },
      "source": [
        "pred = model(inputs).detach().numpy()\n",
        "pred.shape"
      ],
      "execution_count": 52,
      "outputs": [
        {
          "output_type": "execute_result",
          "data": {
            "text/plain": [
              "(20, 1)"
            ]
          },
          "metadata": {
            "tags": []
          },
          "execution_count": 52
        }
      ]
    },
    {
      "cell_type": "code",
      "metadata": {
        "colab": {
          "base_uri": "https://localhost:8080/",
          "height": 265
        },
        "id": "Z7NxfU1rURON",
        "outputId": "1e05bbad-a847-41b3-9547-e9ecf4127b53"
      },
      "source": [
        "  plt.scatter(X, Y, label='Orginal Data');\n",
        "  plt.plot(X, pred, 'r', label='Fitted Line');\n",
        "  plt.legend();"
      ],
      "execution_count": 53,
      "outputs": [
        {
          "output_type": "display_data",
          "data": {
            "image/png": "[encoded data removed]",
            "text/plain": [
              "<Figure size 432x288 with 1 Axes>"
            ]
          },
          "metadata": {
            "tags": [],
            "needs_background": "light"
          }
        }
      ]
    },
    {
      "cell_type": "code",
      "metadata": {
        "colab": {
          "base_uri": "https://localhost:8080/"
        },
        "id": "Z2KFv_K6w3bf",
        "outputId": "9d30c02c-3190-47d5-8960-1be07b3435ee"
      },
      "source": [
        "W = model.weight.data.numpy()\n",
        "b = model.bias.data.numpy()\n",
        "\n",
        "print(W, b)"
      ],
      "execution_count": 64,
      "outputs": [
        {
          "output_type": "stream",
          "text": [
            "[[0.57518506]] [-0.5640408]\n"
          ],
          "name": "stdout"
        }
      ]
    }
  ]
}