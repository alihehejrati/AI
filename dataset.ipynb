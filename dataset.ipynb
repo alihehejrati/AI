{
  "nbformat": 4,
  "nbformat_minor": 0,
  "metadata": {
    "colab": {
      "name": "dataset.ipynb",
      "provenance": [],
      "collapsed_sections": [],
      "mount_file_id": "19Ozx10l1PnnTKM6HhQhWBjFtsk5LD1N1",
      "authorship_tag": "ABX9TyPK+F9skvAnVA2UFdEpdWQM",
      "include_colab_link": true
    },
    "kernelspec": {
      "name": "python3",
      "display_name": "Python 3"
    },
    "language_info": {
      "name": "python"
    }
  },
  "cells": [
    {
      "cell_type": "markdown",
      "metadata": {
        "id": "view-in-github",
        "colab_type": "text"
      },
      "source": [
        "<a href=\"https://colab.research.google.com/github/alihehejrati/AI/blob/main/dataset.ipynb\" target=\"_parent\"><img src=\"https://colab.research.google.com/assets/colab-badge.svg\" alt=\"Open In Colab\"/></a>"
      ]
    },
    {
      "cell_type": "code",
      "metadata": {
        "id": "XKoyuJ9QOP8r"
      },
      "source": [
        "import pandas as pd\n",
        "import os\n",
        "import numpy as np"
      ],
      "execution_count": 4,
      "outputs": []
    },
    {
      "cell_type": "code",
      "metadata": {
        "id": "wTHeFdtDUrMS"
      },
      "source": [
        "rootDir='/content/drive/MyDrive'\n",
        "datasetDir=os.path.join(rootDir,'dataset')\n",
        "\n",
        "datasetName='TimeSeries_Dataset'"
      ],
      "execution_count": 5,
      "outputs": []
    },
    {
      "cell_type": "code",
      "metadata": {
        "colab": {
          "base_uri": "https://localhost:8080/"
        },
        "id": "uhkzICfoSebQ",
        "outputId": "76a66308-8ebc-4259-e556-01b605e16f7d"
      },
      "source": [
        "from google.colab import drive\n",
        "drive.mount('/gdrive')"
      ],
      "execution_count": 2,
      "outputs": [
        {
          "output_type": "stream",
          "text": [
            "Mounted at /gdrive\n"
          ],
          "name": "stdout"
        }
      ]
    },
    {
      "cell_type": "code",
      "metadata": {
        "colab": {
          "base_uri": "https://localhost:8080/"
        },
        "id": "ZhSUAXfBD0lN",
        "outputId": "6e7ecf53-b1e4-47f6-a4b1-a193e8254c92"
      },
      "source": [
        "%cd {rootDir}"
      ],
      "execution_count": 9,
      "outputs": [
        {
          "output_type": "stream",
          "text": [
            "/content/drive/MyDrive\n"
          ],
          "name": "stdout"
        }
      ]
    },
    {
      "cell_type": "code",
      "metadata": {
        "colab": {
          "base_uri": "https://localhost:8080/"
        },
        "id": "Bt0ejklnSebi",
        "outputId": "99392cd6-2594-47a8-bc52-5cfec0b2ba37"
      },
      "source": [
        "table = pd.read_csv(os.path.join(datasetDir,datasetName) + '.csv') # -> SQL\n",
        "# N = table.shape[0]\n",
        "d = table.shape[1]\n",
        "print(table)"
      ],
      "execution_count": 10,
      "outputs": [
        {
          "output_type": "stream",
          "text": [
            "           Date       Open       High        Low      Close  Adj Close   Volume\n",
            "0    2020-07-20  20.200001  20.275000  20.122999  20.124001  20.124001     10.0\n",
            "1    2020-07-21  20.285000  21.565001  20.275000  21.497000  21.497000    385.0\n",
            "2    2020-07-22  22.650000  23.305000  21.895000  23.083000  23.083000    792.0\n",
            "3    2020-07-23  23.070000  23.325001  22.665001  22.945000  22.945000    200.0\n",
            "4    2020-07-24  23.065001  23.070000  22.808001  22.808001  22.808001    189.0\n",
            "..          ...        ...        ...        ...        ...        ...      ...\n",
            "247  2021-07-13  26.205000  26.205000  26.100000  26.115000  26.115000     66.0\n",
            "248  2021-07-14  26.100000  26.445000  26.100000  26.246000  26.246000     14.0\n",
            "249  2021-07-15  26.420000  26.445000  26.264999  26.375000  26.375000    203.0\n",
            "250  2021-07-16  26.430000  26.430000  25.650000  25.777000  25.777000    203.0\n",
            "251  2021-07-19  25.700001  25.805000  25.035000  25.365000  25.365000  61711.0\n",
            "\n",
            "[252 rows x 7 columns]\n"
          ],
          "name": "stdout"
        }
      ]
    },
    {
      "cell_type": "code",
      "metadata": {
        "id": "rU4b8LN8wQhM"
      },
      "source": [
        "def colIsNumeric(col):\n",
        "  return table[col].dtype.kind in 'biufc'"
      ],
      "execution_count": 11,
      "outputs": []
    },
    {
      "cell_type": "code",
      "metadata": {
        "colab": {
          "base_uri": "https://localhost:8080/"
        },
        "id": "WHZwOKbBk2_4",
        "outputId": "87344d4c-60e6-4f19-94b2-8c2938d706af"
      },
      "source": [
        "sup = {col: table[col].max() for col in table.columns if colIsNumeric(col)}\n",
        "inf = {col: table[col].min() for col in table.columns if colIsNumeric(col)}\n",
        "\n",
        "print(sup)\n",
        "print(inf)\n"
      ],
      "execution_count": 12,
      "outputs": [
        {
          "output_type": "stream",
          "text": [
            "{'Open': 29.530001000000002, 'High': 30.16, 'Low': 28.313999, 'Close': 29.398001, 'Adj Close': 29.398001, 'Volume': 131415.0}\n",
            "{'Open': 20.200001, 'High': 20.275, 'Low': 20.122999, 'Close': 20.124001, 'Adj Close': 20.124001, 'Volume': 0.0}\n"
          ],
          "name": "stdout"
        }
      ]
    },
    {
      "cell_type": "code",
      "metadata": {
        "colab": {
          "base_uri": "https://localhost:8080/"
        },
        "id": "KxtBU2Tfv2lO",
        "outputId": "0ea9c4b8-a9a9-4b42-9481-e4f543fccb75"
      },
      "source": [
        "for col in table.columns:\n",
        "  if colIsNumeric(col):\n",
        "    table[col]=((table[col]-inf[col])/(sup[col]-inf[col]))-.5\n",
        "print(table)"
      ],
      "execution_count": 33,
      "outputs": [
        {
          "output_type": "stream",
          "text": [
            "           Date      Open      High       Low     Close  Adj Close    Volume\n",
            "0    2020-07-20 -0.500000 -0.500000 -0.500000 -0.500000  -0.500000 -0.499924\n",
            "1    2020-07-21 -0.490890 -0.369499 -0.481443 -0.351952  -0.351952 -0.497070\n",
            "2    2020-07-22 -0.237406 -0.193475 -0.283665 -0.180936  -0.180936 -0.493973\n",
            "3    2020-07-23 -0.192390 -0.191452 -0.189659 -0.195816  -0.195816 -0.498478\n",
            "4    2020-07-24 -0.192926 -0.217248 -0.172201 -0.210589  -0.210589 -0.498562\n",
            "..          ...       ...       ...       ...       ...        ...       ...\n",
            "247  2021-07-13  0.143623  0.099899  0.229703  0.145999   0.145999 -0.499498\n",
            "248  2021-07-14  0.132369  0.124178  0.229703  0.160125   0.160125 -0.499893\n",
            "249  2021-07-15  0.166667  0.124178  0.249847  0.174035   0.174035 -0.498455\n",
            "250  2021-07-16  0.167738  0.122661  0.174765  0.109553   0.109553 -0.498455\n",
            "251  2021-07-19  0.089496  0.059433  0.099683  0.065128   0.065128 -0.030411\n",
            "\n",
            "[252 rows x 7 columns]\n"
          ],
          "name": "stdout"
        }
      ]
    },
    {
      "cell_type": "code",
      "metadata": {
        "id": "XDHsDAKBfWZ6"
      },
      "source": [
        "# select\n",
        "\n",
        "def selectId(id):\n",
        "  return table.loc[id,:]\n",
        "\n",
        "def selectDate(datestr):\n",
        "  return selectId(table.index[table.Date==datestr].tolist()[0])"
      ],
      "execution_count": 34,
      "outputs": []
    },
    {
      "cell_type": "code",
      "metadata": {
        "colab": {
          "base_uri": "https://localhost:8080/"
        },
        "id": "hF9_xmBzVzAI",
        "outputId": "f8ede459-8b72-47b4-88cf-558743f6bd0a"
      },
      "source": [
        "print(selectId(250))\n",
        "# selectDate('2020-07-21')"
      ],
      "execution_count": 35,
      "outputs": [
        {
          "output_type": "stream",
          "text": [
            "Date         2021-07-16\n",
            "Open           0.167738\n",
            "High           0.122661\n",
            "Low            0.174765\n",
            "Close          0.109553\n",
            "Adj Close      0.109553\n",
            "Volume        -0.498455\n",
            "Name: 250, dtype: object\n"
          ],
          "name": "stdout"
        }
      ]
    }
  ]
}